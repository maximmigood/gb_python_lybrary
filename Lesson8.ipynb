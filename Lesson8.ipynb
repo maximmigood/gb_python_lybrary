{
  "cells": [
    {
      "cell_type": "markdown",
      "metadata": {
        "id": "-JWo1y2nmLCM"
      },
      "source": [
        "# Тема “Обучение без учителя”"
      ]
    },
    {
      "cell_type": "markdown",
      "metadata": {
        "id": "AhgxbXIVmRKH"
      },
      "source": [
        "## Задание 1"
      ]
    },
    {
      "cell_type": "markdown",
      "metadata": {
        "id": "3KTemSJWmUU_"
      },
      "source": [
        "Импортируйте библиотеки pandas, numpy и matplotlib."
      ]
    },
    {
      "cell_type": "code",
      "execution_count": 23,
      "metadata": {
        "id": "OPfYg-KFmW1O"
      },
      "outputs": [],
      "source": [
        "import numpy as np\n",
        "import pandas as pd\n",
        "import matplotlib"
      ]
    },
    {
      "cell_type": "markdown",
      "metadata": {
        "id": "_3dI4NDMmg4q"
      },
      "source": [
        "Загрузите \"Boston House Prices dataset\" из встроенных наборов "
      ]
    },
    {
      "cell_type": "code",
      "source": [
        "#from sklearn.datasets import load_boston\n",
        "#dat = load_boston()\n",
        "# Эту практическую работу делаю colab. \n",
        "# В colab приведённый выше код для загрузки данных из встроенного набора не работает.\n",
        "# Выдаёт преупреждение что функция load_boston запрещена (depricated) по этическим причинам.\n",
        "# Ниже загружаю датасет boston из интернета"
      ],
      "metadata": {
        "id": "85cbcGJJbtLy"
      },
      "execution_count": 24,
      "outputs": []
    },
    {
      "cell_type": "code",
      "source": [
        "data_url = \"http://lib.stat.cmu.edu/datasets/boston\"\n",
        "colname = ['CRIM', 'ZN', 'INDUS', 'CHAS', 'NOX', 'RM', 'AGE', 'DIS', 'RAD', 'TAX', 'PTRATIO', 'B', 'LSTAT']\n",
        "raw_df = pd.read_csv(data_url, sep=\"\\s+\", skiprows=22, header=None)\n",
        "data = np.hstack([raw_df.values[::2, :], raw_df.values[1::2, :2]])\n",
        "target = raw_df.values[1::2, 2]"
      ],
      "metadata": {
        "id": "NQ0yDodscY8Z"
      },
      "execution_count": 25,
      "outputs": []
    },
    {
      "cell_type": "markdown",
      "source": [
        "Создайте датафреймы X и y из этих данных."
      ],
      "metadata": {
        "id": "WijHqPgbesDf"
      }
    },
    {
      "cell_type": "code",
      "source": [
        "X = pd.DataFrame(data, columns=colname)\n",
        "y = pd.DataFrame(target)"
      ],
      "metadata": {
        "id": "UiJvEh9vcjlo"
      },
      "execution_count": 26,
      "outputs": []
    },
    {
      "cell_type": "markdown",
      "source": [
        "Разбейте эти датафреймы на тренировочные (X_train, y_train) и тестовые (X_test, y_test) с помощью функции train_test_split так, чтобы размер тестовой выборки\n",
        "составлял 20% от всех данных, при этом аргумент random_state должен быть равен 42"
      ],
      "metadata": {
        "id": "UxCBN9E2fK-o"
      }
    },
    {
      "cell_type": "code",
      "source": [
        "from sklearn.model_selection import train_test_split"
      ],
      "metadata": {
        "id": "20GjltshfJ8V"
      },
      "execution_count": 27,
      "outputs": []
    },
    {
      "cell_type": "code",
      "source": [
        "X_train, X_test, y_train, y_test = train_test_split(X, y, test_size=0.2, random_state=42)"
      ],
      "metadata": {
        "id": "O4_YIH1HfeyZ"
      },
      "execution_count": 28,
      "outputs": []
    },
    {
      "cell_type": "code",
      "source": [
        "#проверяем размерность получившихся dataset\n",
        "print(f'{X_train.shape}, {y_train.shape}')"
      ],
      "metadata": {
        "colab": {
          "base_uri": "https://localhost:8080/"
        },
        "id": "g0I8fccPgxjj",
        "outputId": "36029549-2d1a-4816-e035-da5c6bd708f8"
      },
      "execution_count": 29,
      "outputs": [
        {
          "output_type": "stream",
          "name": "stdout",
          "text": [
            "(404, 13), (404, 1)\n"
          ]
        }
      ]
    },
    {
      "cell_type": "markdown",
      "source": [
        "Масштабируйте данные с помощью StandardScaler."
      ],
      "metadata": {
        "id": "gP2plgebg6w9"
      }
    },
    {
      "cell_type": "code",
      "source": [
        "from sklearn.preprocessing import StandardScaler"
      ],
      "metadata": {
        "id": "veYNWIC7hQ9i"
      },
      "execution_count": 31,
      "outputs": []
    },
    {
      "cell_type": "code",
      "source": [
        "stdscal = StandardScaler()\n",
        "scaled_X_train = stdscal.fit_transform(X_train)"
      ],
      "metadata": {
        "id": "2F2XPqKzhRHR"
      },
      "execution_count": 32,
      "outputs": []
    },
    {
      "cell_type": "markdown",
      "source": [
        "Постройте модель TSNE на тренировочных данных с параметрами n_components=2, learning_rate=250, random_state=42."
      ],
      "metadata": {
        "id": "VMMf6XsZigjd"
      }
    },
    {
      "cell_type": "code",
      "source": [
        "from sklearn.manifold import TSNE"
      ],
      "metadata": {
        "id": "edn3LP4_ixFz"
      },
      "execution_count": 33,
      "outputs": []
    },
    {
      "cell_type": "code",
      "source": [
        "tsne = TSNE(learning_rate=250, random_state=42)\n",
        "X_train_tsne = tsne.fit_transform(scaled_X_train)"
      ],
      "metadata": {
        "colab": {
          "base_uri": "https://localhost:8080/"
        },
        "id": "cmInuywgjHI1",
        "outputId": "a03cbef6-b011-4fe3-d483-7b26f7be369f"
      },
      "execution_count": 34,
      "outputs": [
        {
          "output_type": "stream",
          "name": "stderr",
          "text": [
            "/usr/local/lib/python3.7/dist-packages/sklearn/manifold/_t_sne.py:783: FutureWarning: The default initialization in TSNE will change from 'random' to 'pca' in 1.2.\n",
            "  FutureWarning,\n"
          ]
        }
      ]
    },
    {
      "cell_type": "markdown",
      "source": [
        "Постройте диаграмму рассеяния на этих данных."
      ],
      "metadata": {
        "id": "Vmf-BmquivGx"
      }
    },
    {
      "cell_type": "code",
      "source": [
        "import matplotlib.pyplot as plt\n",
        "import seaborn as sns\n",
        "%matplotlib inline\n",
        "sns.set(rc={\"figure.figsize\": (8, 6)})\n",
        "sns.set_style('white')"
      ],
      "metadata": {
        "id": "1SEKYdPPjzN9"
      },
      "execution_count": 79,
      "outputs": []
    },
    {
      "cell_type": "code",
      "source": [
        "# X_train_tsne"
      ],
      "metadata": {
        "id": "oQ_oNeW7KL1C"
      },
      "execution_count": 69,
      "outputs": []
    },
    {
      "cell_type": "code",
      "source": [
        "sns.scatterplot(x=X_train_tsne[:, 0], y=X_train_tsne[:, 1])\n",
        "plt.show()"
      ],
      "metadata": {
        "colab": {
          "base_uri": "https://localhost:8080/",
          "height": 377
        },
        "id": "GpVDra3tk9Bm",
        "outputId": "242173ae-13b4-419d-ca3a-662d24babf05"
      },
      "execution_count": 81,
      "outputs": [
        {
          "output_type": "display_data",
          "data": {
            "text/plain": [
              "<Figure size 576x432 with 1 Axes>"
            ],
            "image/png": "[encoded data removed]"
          },
          "metadata": {}
        }
      ]
    },
    {
      "cell_type": "markdown",
      "source": [
        "------------------------------------------------------------------"
      ],
      "metadata": {
        "id": "MCFJjrwVmqkg"
      }
    },
    {
      "cell_type": "markdown",
      "source": [
        "## Задание 2"
      ],
      "metadata": {
        "id": "EhaIDPPOm0gp"
      }
    },
    {
      "cell_type": "markdown",
      "source": [
        "С помощью KMeans разбейте данные из тренировочного набора на 3 кластера,\n",
        "используйте все признаки из датафрейма X_train. Параметр max_iter должен быть равен 100, random_state сделайте равным 42.\n"
      ],
      "metadata": {
        "id": "Y_YbITHnmr7-"
      }
    },
    {
      "cell_type": "code",
      "source": [
        "from sklearn.cluster import KMeans"
      ],
      "metadata": {
        "id": "Ui8JhKLjiBmv"
      },
      "execution_count": 37,
      "outputs": []
    },
    {
      "cell_type": "code",
      "source": [
        "model_kmean = KMeans(n_clusters=3, max_iter=100, random_state=42)\n",
        "clasters = model_kmean.fit_predict(scaled_X_train)"
      ],
      "metadata": {
        "id": "j2bsqsSWctL0"
      },
      "execution_count": 38,
      "outputs": []
    },
    {
      "cell_type": "markdown",
      "source": [
        "Постройте еще раз диаграмму рассеяния на данных, полученных с помощью TSNE,\n",
        "и раскрасьте точки из разных кластеров разными цветами.\n"
      ],
      "metadata": {
        "id": "-66E4qkabbIy"
      }
    },
    {
      "cell_type": "code",
      "source": [
        "scaled_X_train[0]"
      ],
      "metadata": {
        "colab": {
          "base_uri": "https://localhost:8080/"
        },
        "id": "IIY1_uB3NeuC",
        "outputId": "a69dbdae-f95f-42e1-a617-bc156bfccbfc"
      },
      "execution_count": 87,
      "outputs": [
        {
          "output_type": "execute_result",
          "data": {
            "text/plain": [
              "array([ 1.28770177, -0.50032012,  1.03323679, -0.27808871,  0.48925206,\n",
              "       -1.42806858,  1.02801516, -0.80217296,  1.70689143,  1.57843444,\n",
              "        0.84534281, -0.07433689,  1.75350503])"
            ]
          },
          "metadata": {},
          "execution_count": 87
        }
      ]
    },
    {
      "cell_type": "code",
      "source": [
        "sns.scatterplot(x=X_train_tsne[:, 0], y=X_train_tsne[:, 1], hue=clasters)\n",
        "plt.show()"
      ],
      "metadata": {
        "colab": {
          "base_uri": "https://localhost:8080/",
          "height": 377
        },
        "id": "Wd_NqU5LZcUD",
        "outputId": "f3a27614-a52f-46b0-cb1e-cf591dc5d95a"
      },
      "execution_count": 88,
      "outputs": [
        {
          "output_type": "display_data",
          "data": {
            "text/plain": [
              "<Figure size 576x432 with 1 Axes>"
            ],
            "image/png": "[encoded data removed]"
          },
          "metadata": {}
        }
      ]
    },
    {
      "cell_type": "markdown",
      "source": [
        "Вычислите средние значения price и CRIM в разных кластерах."
      ],
      "metadata": {
        "id": "OUSTg-BGcFFN"
      }
    },
    {
      "cell_type": "code",
      "source": [
        "for i in range(3):\n",
        "  print(f'Для кластера {i} mean(CRIM) = {X_train[clasters==i][\"CRIM\"].mean():.4f}, mean(price)={y_train[clasters==i][0].mean():.4f}')"
      ],
      "metadata": {
        "colab": {
          "base_uri": "https://localhost:8080/"
        },
        "id": "zVUs1mttcJ07",
        "outputId": "a88e260c-736e-421a-c590-447e1d45f921"
      },
      "execution_count": 40,
      "outputs": [
        {
          "output_type": "stream",
          "name": "stdout",
          "text": [
            "Для кластера 0 mean(CRIM) = 0.0736, mean(price)=27.7884\n",
            "Для кластера 1 mean(CRIM) = 10.7970, mean(price)=16.1654\n",
            "Для кластера 2 mean(CRIM) = 0.4217, mean(price)=24.9581\n"
          ]
        }
      ]
    },
    {
      "cell_type": "markdown",
      "source": [
        "------------------------------------------------"
      ],
      "metadata": {
        "id": "Q1_Je9UgmFsW"
      }
    },
    {
      "cell_type": "markdown",
      "source": [
        "## *Задание 3"
      ],
      "metadata": {
        "id": "niTsMDbLmHy8"
      }
    },
    {
      "cell_type": "markdown",
      "source": [
        "Примените модель KMeans, построенную в предыдущем задании, к данным из тестового набора."
      ],
      "metadata": {
        "id": "KWmnEqh_mH7o"
      }
    },
    {
      "cell_type": "code",
      "source": [
        "X_test_scaled = stdscal.transform(X_test)\n",
        "test_clusters = model_kmean.predict(X_test_scaled)"
      ],
      "metadata": {
        "id": "I5o2_sYtcKMQ"
      },
      "execution_count": 50,
      "outputs": []
    },
    {
      "cell_type": "markdown",
      "source": [
        "Вычислите средние значения price и CRIM в разных кластерах на тестовых данных."
      ],
      "metadata": {
        "id": "e-tcvcimGtA1"
      }
    },
    {
      "cell_type": "code",
      "source": [
        "for i in range(3):\n",
        "  print(f'Для кластера {i} mean(CRIM) = {X_test[test_clusters==i][\"CRIM\"].mean():.4f}, mean(price)={y_test[test_clusters==i][0].mean():.4f}')"
      ],
      "metadata": {
        "colab": {
          "base_uri": "https://localhost:8080/"
        },
        "id": "u-A9NhwyGxu5",
        "outputId": "5baf2ca6-9835-40b1-ee15-2c7674e122ac"
      },
      "execution_count": 48,
      "outputs": [
        {
          "output_type": "stream",
          "name": "stdout",
          "text": [
            "Для кластера 0 mean(CRIM) = 0.0621, mean(price)=31.3500\n",
            "Для кластера 1 mean(CRIM) = 10.1655, mean(price)=16.4371\n",
            "Для кластера 2 mean(CRIM) = 0.2661, mean(price)=21.8608\n"
          ]
        }
      ]
    },
    {
      "cell_type": "code",
      "source": [],
      "metadata": {
        "id": "yj8rmizjGyWl"
      },
      "execution_count": null,
      "outputs": []
    }
  ],
  "metadata": {
    "colab": {
      "collapsed_sections": [],
      "provenance": [],
      "toc_visible": true
    },
    "kernelspec": {
      "display_name": "Python 3",
      "name": "python3"
    },
    "language_info": {
      "name": "python"
    }
  },
  "nbformat": 4,
  "nbformat_minor": 0
}